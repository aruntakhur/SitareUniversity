{
  "nbformat": 4,
  "nbformat_minor": 0,
  "metadata": {
    "colab": {
      "provenance": [],
      "authorship_tag": "ABX9TyMn5f7XxuaQFCzpNxYoz7ny",
      "include_colab_link": true
    },
    "kernelspec": {
      "name": "python3",
      "display_name": "Python 3"
    },
    "language_info": {
      "name": "python"
    }
  },
  "cells": [
    {
      "cell_type": "markdown",
      "metadata": {
        "id": "view-in-github",
        "colab_type": "text"
      },
      "source": [
        "<a href=\"https://colab.research.google.com/github/aruntakhur/SitareUniversity/blob/main/GreedyBFS_AI_2025.ipynb\" target=\"_parent\"><img src=\"https://colab.research.google.com/assets/colab-badge.svg\" alt=\"Open In Colab\"/></a>"
      ]
    },
    {
      "cell_type": "code",
      "source": [
        "maze5 = [\n",
        "    ['A', 0,  1,  0,  0,  0, 1, 0, 0, 1, 0, 0],\n",
        "    [0,   0,  1,  0,  1,  0, 1, 0, 1, 0, 0, 0],\n",
        "    [1,   0,  0,  0,  1,  0, 0, 0, 1, 1, 1, 0],\n",
        "    [0,   1,  1,  0,  0,  1, 1, 0, 0, 0, 1, 0],\n",
        "    [0,   0,  0,  0,  1,  0, 1, 1, 1, 0, 0, 0],\n",
        "    [1,   1,  1,  0,  1,  0, 0, 0, 1, 1, 1, 0],\n",
        "    [0,   0,  1,  0,  0,  0, 1, 0, 0, 0, 1, 0],\n",
        "    [0,   1,  0,  1,  1,  0, 1, 1, 1, 0, 1, 0],\n",
        "    [0,   0,  0,  0,  0,  0, 0, 0, 1, 0, 0, 0],\n",
        "    [1,   1,  1,  1,  1,  1, 0, 1, 0, 1, 1, 0],\n",
        "    [0,   0,  0,  0,  0,  0, 0, 1, 0, 0, 0, 0],\n",
        "    [0,   1,  1,  1,  1,  1, 1, 1, 1, 1, 1,'B'],\n",
        "]"
      ],
      "metadata": {
        "id": "aY547roWSrJO"
      },
      "execution_count": 1,
      "outputs": []
    },
    {
      "cell_type": "code",
      "execution_count": 2,
      "metadata": {
        "id": "iF0ylpHBLP9e"
      },
      "outputs": [],
      "source": [
        "import heapq\n",
        "\n",
        "# Define Manhattan distance heuristic\n",
        "def manhattan(a, b):\n",
        "    return abs(a[0] - b[0]) + abs(a[1] - b[1])"
      ]
    },
    {
      "cell_type": "code",
      "source": [
        "# Get neighbors in 4 directions\n",
        "def get_neighbors(pos, maze):\n",
        "    neighbors = []\n",
        "    directions = [(-1,0), (1,0), (0,-1), (0,1)]  # up, down, left, right\n",
        "    rows, cols = len(maze), len(maze[0])\n",
        "    for dx, dy in directions:\n",
        "        nx, ny = pos[0] + dx, pos[1] + dy\n",
        "        if 0 <= nx < rows and 0 <= ny < cols and maze[nx][ny] != 1:\n",
        "            neighbors.append((nx, ny))\n",
        "    return neighbors"
      ],
      "metadata": {
        "id": "egOgH6qoLY0w"
      },
      "execution_count": 3,
      "outputs": []
    },
    {
      "cell_type": "markdown",
      "source": [
        "# Processed Maze to replace A nd B with 0"
      ],
      "metadata": {
        "id": "w7Zr2NRPWT9N"
      }
    },
    {
      "cell_type": "code",
      "source": [
        "def processed_maze(maze):\n",
        "\n",
        "    # Convert maze to numeric values for processing\n",
        "    processed_maze = []\n",
        "    for row in maze:\n",
        "        new_row = []\n",
        "        for cell in row:\n",
        "            if cell == 'A':\n",
        "                start = (maze.index(row), row.index(cell))\n",
        "                new_row.append(0)\n",
        "            elif cell == 'B':\n",
        "                goal = (maze.index(row), row.index(cell))\n",
        "                new_row.append(0)\n",
        "            else:\n",
        "                new_row.append(cell)\n",
        "        processed_maze.append(new_row)\n",
        "    return processed_maze, start, goal"
      ],
      "metadata": {
        "id": "Twnl-XSXWRHg"
      },
      "execution_count": 4,
      "outputs": []
    },
    {
      "cell_type": "code",
      "source": [
        "# Greedy Best-First Search\n",
        "\n",
        "def greedy_bfs(maze):\n",
        "\n",
        "    proc_maze, start, goal = processed_maze(maze)\n",
        "\n",
        "    visited = set()\n",
        "    came_from = {}\n",
        "\n",
        "    heap = []\n",
        "    heapq.heappush(heap, (manhattan(start, goal), start))\n",
        "\n",
        "    while heap:\n",
        "        _, current = heapq.heappop(heap)\n",
        "\n",
        "        if current == goal:\n",
        "            break\n",
        "\n",
        "        if current in visited:\n",
        "            continue\n",
        "        visited.add(current)\n",
        "\n",
        "        for neighbor in get_neighbors(current, maze):\n",
        "            if neighbor not in visited:\n",
        "                heapq.heappush(heap, (manhattan(neighbor, goal), neighbor))\n",
        "                if neighbor not in came_from:\n",
        "                    came_from[neighbor] = current\n",
        "\n",
        "    # Reconstruct path\n",
        "    path = []\n",
        "    curr = goal\n",
        "    while curr != start:\n",
        "        path.append(curr)\n",
        "        curr = came_from.get(curr)\n",
        "        if curr is None:\n",
        "            print(\"No path found.\")\n",
        "            return []\n",
        "    path.append(start)\n",
        "    path.reverse()\n",
        "    return path"
      ],
      "metadata": {
        "id": "My4eFHDFLcuq"
      },
      "execution_count": 5,
      "outputs": []
    },
    {
      "cell_type": "code",
      "source": [
        "path = greedy_bfs(maze5)\n",
        "\n",
        "# Print path\n",
        "print(\"Path from A to B:\")\n",
        "print(path)\n"
      ],
      "metadata": {
        "colab": {
          "base_uri": "https://localhost:8080/"
        },
        "id": "nGI0yUfcNTN2",
        "outputId": "dc9be4ec-8116-4198-d49c-7420c3059fdf"
      },
      "execution_count": 6,
      "outputs": [
        {
          "output_type": "stream",
          "name": "stdout",
          "text": [
            "Path from A to B:\n",
            "[(0, 0), (0, 1), (1, 1), (2, 1), (2, 2), (2, 3), (3, 3), (4, 3), (5, 3), (6, 3), (6, 4), (6, 5), (5, 5), (5, 6), (5, 7), (6, 7), (6, 8), (6, 9), (7, 9), (8, 9), (8, 10), (8, 11), (9, 11), (10, 11), (11, 11)]\n"
          ]
        }
      ]
    },
    {
      "cell_type": "code",
      "source": [
        "def visualize_path(path, maze):\n",
        "    for r, c in path:\n",
        "        if (r, c) != start and (r, c) != goal:\n",
        "            maze[r][c] = '*'\n",
        "\n",
        "    for row in maze:\n",
        "        print(' '.join(str(cell) for cell in row))\n",
        "\n",
        "visualize_path(path, maze5)\n"
      ],
      "metadata": {
        "id": "t5PGxPiuNVsC"
      },
      "execution_count": 47,
      "outputs": []
    },
    {
      "cell_type": "code",
      "source": [
        "maze5"
      ],
      "metadata": {
        "colab": {
          "base_uri": "https://localhost:8080/"
        },
        "id": "AYepKXZaVDCO",
        "outputId": "43c47ca1-91bd-49a5-b3ca-1d257cd268cd"
      },
      "execution_count": 50,
      "outputs": [
        {
          "output_type": "execute_result",
          "data": {
            "text/plain": [
              "[[0, 0, 0, 0, 0],\n",
              " [1, 1, 0, 1, 0],\n",
              " [0, 'A', 0, 'B', 0],\n",
              " [0, 1, 1, 1, 0],\n",
              " [0, 0, 0, 0, 0]]"
            ]
          },
          "metadata": {},
          "execution_count": 50
        }
      ]
    },
    {
      "cell_type": "code",
      "source": [
        "visualize_path(path, maze5)"
      ],
      "metadata": {
        "colab": {
          "base_uri": "https://localhost:8080/",
          "height": 144
        },
        "id": "a2VqcArzXSK1",
        "outputId": "91aadfd1-9f23-44e9-9b61-353f5b32a5f9"
      },
      "execution_count": 11,
      "outputs": [
        {
          "output_type": "error",
          "ename": "NameError",
          "evalue": "name 'visualize_path' is not defined",
          "traceback": [
            "\u001b[0;31m---------------------------------------------------------------------------\u001b[0m",
            "\u001b[0;31mNameError\u001b[0m                                 Traceback (most recent call last)",
            "\u001b[0;32m/tmp/ipython-input-2385681516.py\u001b[0m in \u001b[0;36m<cell line: 0>\u001b[0;34m()\u001b[0m\n\u001b[0;32m----> 1\u001b[0;31m \u001b[0mvisualize_path\u001b[0m\u001b[0;34m(\u001b[0m\u001b[0mpath\u001b[0m\u001b[0;34m,\u001b[0m \u001b[0mmaze5\u001b[0m\u001b[0;34m)\u001b[0m\u001b[0;34m\u001b[0m\u001b[0;34m\u001b[0m\u001b[0m\n\u001b[0m",
            "\u001b[0;31mNameError\u001b[0m: name 'visualize_path' is not defined"
          ]
        }
      ]
    },
    {
      "cell_type": "markdown",
      "source": [
        "# Visualizing the manhattan distance in the maze\n"
      ],
      "metadata": {
        "id": "I3JxjF86Q4nP"
      }
    },
    {
      "cell_type": "code",
      "source": [
        "def manhattan(p1, p2):\n",
        "    return abs(p1[0] - p2[0]) + abs(p1[1] - p2[1])\n",
        "\n",
        "# Find start (A) and goal (B)\n",
        "def find_positions(maze):\n",
        "    start = goal = None\n",
        "    for i in range(len(maze)):\n",
        "        for j in range(len(maze[0])):\n",
        "            if maze[i][j] == 'A':\n",
        "                start = (i, j)\n",
        "            elif maze[i][j] == 'B':\n",
        "                goal = (i, j)\n",
        "    return start, goal\n",
        "\n",
        "def visualize_manhattan(maze):\n",
        "    start, goal = find_positions(maze)\n",
        "    rows, cols = len(maze), len(maze[0])\n",
        "\n",
        "    dist_matrix = []\n",
        "    for i in range(rows):\n",
        "        row = []\n",
        "        for j in range(cols):\n",
        "            if maze[i][j] == 1:   # Wall\n",
        "                row.append(\"█\")\n",
        "            elif maze[i][j] == 'A':\n",
        "                row.append('A')\n",
        "            elif maze[i][j] == 'B':\n",
        "                row.append('B')\n",
        "            else:\n",
        "                row.append(manhattan((i, j), goal))\n",
        "        dist_matrix.append(row)\n",
        "\n",
        "    return dist_matrix"
      ],
      "metadata": {
        "id": "5R_16xekQAZ7"
      },
      "execution_count": 7,
      "outputs": []
    },
    {
      "cell_type": "code",
      "source": [
        "visualize_manhattan(maze5)"
      ],
      "metadata": {
        "colab": {
          "base_uri": "https://localhost:8080/"
        },
        "id": "xipZmZ2URGQs",
        "outputId": "e3adef7d-94bf-4ada-829d-d816c2458c5b"
      },
      "execution_count": 8,
      "outputs": [
        {
          "output_type": "execute_result",
          "data": {
            "text/plain": [
              "[['A', 21, '█', 19, 18, 17, '█', 15, 14, '█', 12, 11],\n",
              " [21, 20, '█', 18, '█', 16, '█', 14, '█', 12, 11, 10],\n",
              " ['█', 19, 18, 17, '█', 15, 14, 13, '█', '█', '█', 9],\n",
              " [19, '█', '█', 16, 15, '█', '█', 12, 11, 10, '█', 8],\n",
              " [18, 17, 16, 15, '█', 13, '█', '█', '█', 9, 8, 7],\n",
              " ['█', '█', '█', 14, '█', 12, 11, 10, '█', '█', '█', 6],\n",
              " [16, 15, '█', 13, 12, 11, '█', 9, 8, 7, '█', 5],\n",
              " [15, '█', 13, '█', '█', 10, '█', '█', '█', 6, '█', 4],\n",
              " [14, 13, 12, 11, 10, 9, 8, 7, '█', 5, 4, 3],\n",
              " ['█', '█', '█', '█', '█', '█', 7, '█', 5, '█', '█', 2],\n",
              " [12, 11, 10, 9, 8, 7, 6, '█', 4, 3, 2, 1],\n",
              " [11, '█', '█', '█', '█', '█', '█', '█', '█', '█', '█', 'B']]"
            ]
          },
          "metadata": {},
          "execution_count": 8
        }
      ]
    },
    {
      "cell_type": "code",
      "source": [
        "# Pretty print function\n",
        "def print_matrix(matrix):\n",
        "    for row in matrix:\n",
        "        row_str = \"\"\n",
        "        for val in row:\n",
        "            if val == \"█\":\n",
        "                row_str += \" █ \"   # Wall\n",
        "            elif val == 'A' or val == 'B':\n",
        "                row_str += f\" {val} \"\n",
        "            else:\n",
        "                row_str += f\"{val:2d} \"  # Align numbers\n",
        "        print(row_str)\n",
        "    print()  # Extra space after the grid"
      ],
      "metadata": {
        "id": "s6CVzMIFRu0B"
      },
      "execution_count": 9,
      "outputs": []
    },
    {
      "cell_type": "code",
      "source": [
        "print_matrix(visualize_manhattan(maze5))"
      ],
      "metadata": {
        "colab": {
          "base_uri": "https://localhost:8080/"
        },
        "id": "Tx0pjCkGRwe9",
        "outputId": "75563bbf-4a42-468a-edcb-c1551c31611a"
      },
      "execution_count": 10,
      "outputs": [
        {
          "output_type": "stream",
          "name": "stdout",
          "text": [
            " A 21  █ 19 18 17  █ 15 14  █ 12 11 \n",
            "21 20  █ 18  █ 16  █ 14  █ 12 11 10 \n",
            " █ 19 18 17  █ 15 14 13  █  █  █  9 \n",
            "19  █  █ 16 15  █  █ 12 11 10  █  8 \n",
            "18 17 16 15  █ 13  █  █  █  9  8  7 \n",
            " █  █  █ 14  █ 12 11 10  █  █  █  6 \n",
            "16 15  █ 13 12 11  █  9  8  7  █  5 \n",
            "15  █ 13  █  █ 10  █  █  █  6  █  4 \n",
            "14 13 12 11 10  9  8  7  █  5  4  3 \n",
            " █  █  █  █  █  █  7  █  5  █  █  2 \n",
            "12 11 10  9  8  7  6  █  4  3  2  1 \n",
            "11  █  █  █  █  █  █  █  █  █  █  B \n",
            "\n"
          ]
        }
      ]
    },
    {
      "cell_type": "markdown",
      "source": [
        "# Examples of different mazes\n"
      ],
      "metadata": {
        "id": "McQ6LgIeSawX"
      }
    },
    {
      "cell_type": "code",
      "source": [
        "maze5 = [\n",
        "    ['A', 0,  1,  0,  0,  0, 1, 0, 0, 1, 0, 0],\n",
        "    [0,   0,  1,  0,  1,  0, 1, 0, 1, 0, 0, 0],\n",
        "    [1,   0,  0,  0,  1,  0, 0, 0, 1, 1, 1, 0],\n",
        "    [0,   1,  1,  0,  0,  1, 1, 0, 0, 0, 1, 0],\n",
        "    [0,   0,  0,  0,  1,  0, 1, 1, 1, 0, 0, 0],\n",
        "    [1,   1,  1,  0,  1,  0, 0, 0, 1, 1, 1, 0],\n",
        "    [0,   0,  1,  0,  0,  0, 1, 0, 0, 0, 1, 0],\n",
        "    [0,   1,  0,  1,  1,  0, 1, 1, 1, 0, 1, 0],\n",
        "    [0,   0,  0,  0,  0,  0, 0, 0, 1, 0, 0, 0],\n",
        "    [1,   1,  1,  1,  1,  1, 0, 1, 0, 1, 1, 0],\n",
        "    [0,   0,  0,  0,  0,  0, 0, 1, 0, 0, 0, 0],\n",
        "    [0,   1,  1,  1,  1,  1, 1, 1, 1, 1, 1,'B'],\n",
        "]"
      ],
      "metadata": {
        "id": "bQmPpMNmSaFC"
      },
      "execution_count": null,
      "outputs": []
    },
    {
      "cell_type": "code",
      "source": [
        "maze4 = [\n",
        "    ['A', 0,  1,  0,  0,  0, 1, 0, 0, 0],\n",
        "    [0,   0,  1,  0,  1,  0, 1, 0, 1, 0],\n",
        "    [1,   0,  0,  0,  1,  0, 0, 0, 1, 0],\n",
        "    [0,   1,  1,  0,  0,  1, 1, 0, 0, 0],\n",
        "    [0,   0,  0,  0,  1,  0, 1, 1, 1, 0],\n",
        "    [1,   1,  1,  0,  1,  0, 0, 0, 1, 0],\n",
        "    [0,   0,  1,  0,  0,  0, 1, 0, 0, 0],\n",
        "    [0,   1,  0,  1,  1,  0, 1, 1, 1, 0],\n",
        "    [0,   0,  0,  0,  0,  0, 0, 0, 1, 0],\n",
        "    [1,   1,  1,  1,  1,  1, 0, 1, 0,'B'],\n",
        "]"
      ],
      "metadata": {
        "id": "Q4BAKiKTSkcz"
      },
      "execution_count": null,
      "outputs": []
    },
    {
      "cell_type": "code",
      "source": [
        "maze3 = [\n",
        "    ['A', 0,  1,  0, 0, 0, 0, 0],\n",
        "    [0,   0,  1,  0, 1, 1, 1, 0],\n",
        "    [0,   1,  1,  0, 0, 0, 1, 0],\n",
        "    [0,   0,  0,  0, 1, 0, 1, 0],\n",
        "    [1,   1,  1,  0, 1, 0, 0, 0],\n",
        "    [0,   0,  0,  0, 0, 1, 1, 0],\n",
        "    [0,   1,  1,  1, 0, 0, 0, 0],\n",
        "    [0,   0,  0,  0, 0, 1, 1,'B'],\n",
        "]"
      ],
      "metadata": {
        "id": "DX6CdpGMSoWN"
      },
      "execution_count": null,
      "outputs": []
    },
    {
      "cell_type": "code",
      "source": [
        "maze2 = [\n",
        "    ['A', 0,   1,  0, 0, 0],\n",
        "    [1,   0,   1,  0, 1, 0],\n",
        "    [0,   0,   0,  0, 1, 0],\n",
        "    [0,   1,   1,  1, 1, 0],\n",
        "    [0,   0,   0,  0, 0, 0],\n",
        "    [0,   1,   1,  1, 1,'B'],\n",
        "]"
      ],
      "metadata": {
        "id": "zdI7tCCjSqii"
      },
      "execution_count": null,
      "outputs": []
    },
    {
      "cell_type": "code",
      "source": [
        "maze1 = [\n",
        "    ['A', 0, 0, 0, 'B'],\n",
        "    [1,   1, 1, 1,  0],\n",
        "    [0,   0, 0, 0,  0],\n",
        "    [0,   1, 1, 1,  0],\n",
        "    [0,   0, 0, 0,  0],\n",
        "]"
      ],
      "metadata": {
        "id": "xF5OWgA1SuG3"
      },
      "execution_count": null,
      "outputs": []
    },
    {
      "cell_type": "markdown",
      "source": [
        "# OOps"
      ],
      "metadata": {
        "id": "yLt79OkwXW0O"
      }
    }
  ]
}