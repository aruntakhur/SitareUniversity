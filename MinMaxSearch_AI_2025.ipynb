{
  "nbformat": 4,
  "nbformat_minor": 0,
  "metadata": {
    "colab": {
      "provenance": [],
      "authorship_tag": "ABX9TyPpCQW8evPTy40RmMXVsJ40",
      "include_colab_link": true
    },
    "kernelspec": {
      "name": "python3",
      "display_name": "Python 3"
    },
    "language_info": {
      "name": "python"
    }
  },
  "cells": [
    {
      "cell_type": "markdown",
      "metadata": {
        "id": "view-in-github",
        "colab_type": "text"
      },
      "source": [
        "<a href=\"https://colab.research.google.com/github/aruntakhur/SitareUniversity/blob/main/MinMaxSearch_AI_2025.ipynb\" target=\"_parent\"><img src=\"https://colab.research.google.com/assets/colab-badge.svg\" alt=\"Open In Colab\"/></a>"
      ]
    },
    {
      "cell_type": "code",
      "execution_count": 8,
      "metadata": {
        "id": "N4UGKY7lsvec"
      },
      "outputs": [],
      "source": [
        "# Step 1: Represent the initial state\n",
        "S0 = [\" \" for _ in range(9)]   # empty 3x3 board"
      ]
    },
    {
      "cell_type": "code",
      "source": [
        "# Step 2: Define the basic functions\n",
        "\n",
        "def Player(s):\n",
        "    \"\"\"Return which player moves next in state s.\"\"\"\n",
        "    X_count = s.count(\"X\")\n",
        "    O_count = s.count(\"O\")\n",
        "    return \"X\" if X_count == O_count else \"O\"\n",
        "\n",
        "def Actions(s):\n",
        "    \"\"\"Return list of legal moves (empty cells).\"\"\"\n",
        "    return [i for i in range(9) if s[i] == \" \"]\n",
        "\n",
        "def Result(s, a):\n",
        "    \"\"\"Return new state after applying action a.\"\"\"\n",
        "    new_state = s.copy()\n",
        "    new_state[a] = Player(s)\n",
        "    return new_state\n",
        "\n",
        "def Terminal(s):\n",
        "    \"\"\"Return True if game over (win or draw).\"\"\"\n",
        "    return check_winner(\"X\", s) or check_winner(\"O\", s) or \" \" not in s\n",
        "\n",
        "def Utility(s):\n",
        "    \"\"\"Return +1 if X wins, -1 if O wins, 0 otherwise.\"\"\"\n",
        "    if check_winner(\"X\", s):\n",
        "        return 1\n",
        "    elif check_winner(\"O\", s):\n",
        "        return -1\n",
        "    else:\n",
        "        return 0\n",
        "\n",
        "def check_winner(player, s):\n",
        "    \"\"\"Check if given player has won in state s.\"\"\"\n",
        "    win_conditions = [\n",
        "        [0,1,2],[3,4,5],[6,7,8],  # rows\n",
        "        [0,3,6],[1,4,7],[2,5,8],  # cols\n",
        "        [0,4,8],[2,4,6]           # diagonals\n",
        "    ]\n",
        "    for cond in win_conditions:\n",
        "        if s[cond[0]] == s[cond[1]] == s[cond[2]] == player:\n",
        "            return True\n",
        "    return False"
      ],
      "metadata": {
        "id": "IOCMcZpCs1GP"
      },
      "execution_count": 15,
      "outputs": []
    },
    {
      "cell_type": "code",
      "source": [
        "# Step 3: Implement Minimax (MAX-VALUE and MIN-VALUE)\n",
        "\n",
        "call_count = 0\n",
        "def MAX_VALUE(state):\n",
        "    global call_count\n",
        "    call_count += 1\n",
        "    if Terminal(state):\n",
        "        return Utility(state)\n",
        "    v = float(\"-inf\")\n",
        "    for action in Actions(state):\n",
        "        v = max(v, MIN_VALUE(Result(state, action)))\n",
        "    return v\n",
        "\n",
        "def MIN_VALUE(state):\n",
        "    global call_count\n",
        "    call_count += 1\n",
        "    if Terminal(state):\n",
        "        return Utility(state)\n",
        "    v = float(\"inf\")\n",
        "    for action in Actions(state):\n",
        "        v = min(v, MAX_VALUE(Result(state, action)))\n",
        "    return v\n"
      ],
      "metadata": {
        "id": "XgN-7S6ctgwb"
      },
      "execution_count": 23,
      "outputs": []
    },
    {
      "cell_type": "code",
      "source": [
        "# Step 4: Best move decision using minimax\n",
        "\n",
        "def minimax_decision(state):\n",
        "    \"\"\"Return best action for current player.\"\"\"\n",
        "    global call_count\n",
        "    call_count = 0\n",
        "    player = Player(state)\n",
        "    if player == \"X\":\n",
        "        # X maximizes\n",
        "        best_val = float(\"-inf\")\n",
        "        best_action = None\n",
        "        for action in Actions(state):\n",
        "            val = MIN_VALUE(Result(state, action))\n",
        "            if val > best_val:\n",
        "                best_val = val\n",
        "                best_action = action\n",
        "    else:\n",
        "        # O minimizes\n",
        "        best_val = float(\"inf\")\n",
        "        best_action = None\n",
        "        for action in Actions(state):\n",
        "            val = MAX_VALUE(Result(state, action))\n",
        "            if val < best_val:\n",
        "                best_val = val\n",
        "                best_action = action\n",
        "    print(f\"AI evaluated {call_count} states before choosing move {best_action+1}\")\n",
        "    return best_action\n"
      ],
      "metadata": {
        "id": "9Yx6tgd3xF06"
      },
      "execution_count": 24,
      "outputs": []
    },
    {
      "cell_type": "code",
      "source": [
        "def print_board(s):\n",
        "    print(s[0]+\"|\"+s[1]+\"|\"+s[2])\n",
        "    print(\"-+-+-\")\n",
        "    print(s[3]+\"|\"+s[4]+\"|\"+s[5])\n",
        "    print(\"-+-+-\")\n",
        "    print(s[6]+\"|\"+s[7]+\"|\"+s[8])\n",
        "\n",
        "state = S0.copy()\n",
        "\n",
        "while not Terminal(state):\n",
        "    print_board(state)\n",
        "    if Player(state) == \"X\":\n",
        "        # Human move\n",
        "        move = int(input(\"Enter your move (1-9): \")) - 1\n",
        "        if move not in Actions(state):   # ❌ invalid move\n",
        "            print(\"Invalid move! Try again.\")\n",
        "            continue\n",
        "    else:\n",
        "        # AI move\n",
        "        print(\"AI is thinking...\")\n",
        "        move = minimax_decision(state)\n",
        "        print(f\"AI chooses position {move+1}\")\n",
        "\n",
        "    # Apply the move\n",
        "    state = Result(state, move)\n",
        "\n",
        "# Final board + result\n",
        "print_board(state)\n",
        "if Utility(state) == 1:\n",
        "    print(\"X wins!\")\n",
        "elif Utility(state) == -1:\n",
        "    print(\"O wins!\")\n",
        "else:\n",
        "    print(\"It's a draw!\")\n"
      ],
      "metadata": {
        "colab": {
          "base_uri": "https://localhost:8080/",
          "height": 949
        },
        "id": "yYPsVie7xM-c",
        "outputId": "e7df18cb-b7af-49a2-f3ca-c70e59982144"
      },
      "execution_count": 25,
      "outputs": [
        {
          "name": "stdout",
          "output_type": "stream",
          "text": [
            " | | \n",
            "-+-+-\n",
            " | | \n",
            "-+-+-\n",
            " | | \n",
            "Enter your move (1-9): 5\n",
            " | | \n",
            "-+-+-\n",
            " |X| \n",
            "-+-+-\n",
            " | | \n",
            "AI is thinking...\n",
            "AI evaluated 55504 states before choosing move 1\n",
            "AI chooses position 1\n",
            "O| | \n",
            "-+-+-\n",
            " |X| \n",
            "-+-+-\n",
            " | | \n",
            "Enter your move (1-9): 9\n",
            "O| | \n",
            "-+-+-\n",
            " |X| \n",
            "-+-+-\n",
            " | |X\n",
            "AI is thinking...\n",
            "AI evaluated 1172 states before choosing move 3\n",
            "AI chooses position 3\n",
            "O| |O\n",
            "-+-+-\n",
            " |X| \n",
            "-+-+-\n",
            " | |X\n",
            "Enter your move (1-9): 3\n",
            "Invalid move! Try again.\n",
            "O| |O\n",
            "-+-+-\n",
            " |X| \n",
            "-+-+-\n",
            " | |X\n",
            "Enter your move (1-9): \n"
          ]
        },
        {
          "output_type": "error",
          "ename": "ValueError",
          "evalue": "invalid literal for int() with base 10: ''",
          "traceback": [
            "\u001b[0;31m---------------------------------------------------------------------------\u001b[0m",
            "\u001b[0;31mValueError\u001b[0m                                Traceback (most recent call last)",
            "\u001b[0;32m/tmp/ipython-input-2528316615.py\u001b[0m in \u001b[0;36m<cell line: 0>\u001b[0;34m()\u001b[0m\n\u001b[1;32m     12\u001b[0m     \u001b[0;32mif\u001b[0m \u001b[0mPlayer\u001b[0m\u001b[0;34m(\u001b[0m\u001b[0mstate\u001b[0m\u001b[0;34m)\u001b[0m \u001b[0;34m==\u001b[0m \u001b[0;34m\"X\"\u001b[0m\u001b[0;34m:\u001b[0m\u001b[0;34m\u001b[0m\u001b[0;34m\u001b[0m\u001b[0m\n\u001b[1;32m     13\u001b[0m         \u001b[0;31m# Human move\u001b[0m\u001b[0;34m\u001b[0m\u001b[0;34m\u001b[0m\u001b[0m\n\u001b[0;32m---> 14\u001b[0;31m         \u001b[0mmove\u001b[0m \u001b[0;34m=\u001b[0m \u001b[0mint\u001b[0m\u001b[0;34m(\u001b[0m\u001b[0minput\u001b[0m\u001b[0;34m(\u001b[0m\u001b[0;34m\"Enter your move (1-9): \"\u001b[0m\u001b[0;34m)\u001b[0m\u001b[0;34m)\u001b[0m \u001b[0;34m-\u001b[0m \u001b[0;36m1\u001b[0m\u001b[0;34m\u001b[0m\u001b[0;34m\u001b[0m\u001b[0m\n\u001b[0m\u001b[1;32m     15\u001b[0m         \u001b[0;32mif\u001b[0m \u001b[0mmove\u001b[0m \u001b[0;32mnot\u001b[0m \u001b[0;32min\u001b[0m \u001b[0mActions\u001b[0m\u001b[0;34m(\u001b[0m\u001b[0mstate\u001b[0m\u001b[0;34m)\u001b[0m\u001b[0;34m:\u001b[0m   \u001b[0;31m# ❌ invalid move\u001b[0m\u001b[0;34m\u001b[0m\u001b[0;34m\u001b[0m\u001b[0m\n\u001b[1;32m     16\u001b[0m             \u001b[0mprint\u001b[0m\u001b[0;34m(\u001b[0m\u001b[0;34m\"Invalid move! Try again.\"\u001b[0m\u001b[0;34m)\u001b[0m\u001b[0;34m\u001b[0m\u001b[0;34m\u001b[0m\u001b[0m\n",
            "\u001b[0;31mValueError\u001b[0m: invalid literal for int() with base 10: ''"
          ]
        }
      ]
    }
  ]
}